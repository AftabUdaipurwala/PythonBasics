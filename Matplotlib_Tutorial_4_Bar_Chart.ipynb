{
  "nbformat": 4,
  "nbformat_minor": 0,
  "metadata": {
    "colab": {
      "name": "Matplotlib Tutorial 4 - Bar Chart.ipynb",
      "provenance": [],
      "authorship_tag": "ABX9TyMnwZMMXf/MR7WynJ5q6Cdk",
      "include_colab_link": true
    },
    "kernelspec": {
      "name": "python3",
      "display_name": "Python 3"
    },
    "language_info": {
      "name": "python"
    }
  },
  "cells": [
    {
      "cell_type": "markdown",
      "metadata": {
        "id": "view-in-github",
        "colab_type": "text"
      },
      "source": [
        "<a href=\"https://colab.research.google.com/github/AftabUdaipurwala/PythonBasics/blob/main/Matplotlib_Tutorial_4_Bar_Chart.ipynb\" target=\"_parent\"><img src=\"https://colab.research.google.com/assets/colab-badge.svg\" alt=\"Open In Colab\"/></a>"
      ]
    },
    {
      "cell_type": "code",
      "execution_count": 2,
      "metadata": {
        "id": "mZi34A88_rvh"
      },
      "outputs": [],
      "source": [
        "import matplotlib.pyplot as plt\n",
        "%matplotlib inline\n",
        "import pandas as pd\n",
        "import numpy as np"
      ]
    },
    {
      "cell_type": "code",
      "source": [
        "days=np.array([1,2,3,4,5,6,7])\n",
        "maxt=np.array([51,54,67,34,56,50,48])\n",
        "mint=np.array([47,34,45,21,50,30,40])\n",
        "avert=(mint+maxt)/2\n"
      ],
      "metadata": {
        "id": "8tKilpYyCZxy"
      },
      "execution_count": 3,
      "outputs": []
    },
    {
      "cell_type": "code",
      "source": [
        "company=['google','amazon','facebook']\n",
        "profit=[21,24,32]\n",
        "revenue=[100,140,132]"
      ],
      "metadata": {
        "id": "TbkilGZ4CbHF"
      },
      "execution_count": 9,
      "outputs": []
    },
    {
      "cell_type": "code",
      "source": [
        "plt.bar(company,revenue,label='revenue')\n",
        "plt.bar(company,profit,label='profit', align='edge')\n",
        "\n",
        "plt.xlabel('Company Name')\n",
        "plt.ylabel('Revenue in USD')\n",
        "plt.title('US Stocks')\n",
        "plt.legend()"
      ],
      "metadata": {
        "colab": {
          "base_uri": "https://localhost:8080/",
          "height": 312
        },
        "id": "dl2a4VC-EUPY",
        "outputId": "2a33471b-db89-4af3-a145-a6e1b8d6349f"
      },
      "execution_count": 17,
      "outputs": [
        {
          "output_type": "execute_result",
          "data": {
            "text/plain": [
              "<matplotlib.legend.Legend at 0x7f8a5f390d50>"
            ]
          },
          "metadata": {},
          "execution_count": 17
        },
        {
          "output_type": "display_data",
          "data": {
            "image/png": "[encoded data removed]",
            "text/plain": [
              "<Figure size 432x288 with 1 Axes>"
            ]
          },
          "metadata": {
            "needs_background": "light"
          }
        }
      ]
    },
    {
      "cell_type": "markdown",
      "source": [
        "Horizontal bar chart"
      ],
      "metadata": {
        "id": "Ka3P-UQyGJs-"
      }
    },
    {
      "cell_type": "code",
      "source": [
        "plt.barh(company,revenue,label='revenue')\n",
        "plt.barh(company,profit,label='profit', align='edge')\n",
        "\n",
        "plt.xlabel('Company Name')\n",
        "plt.ylabel('Revenue in USD')\n",
        "plt.title('US Stocks')\n",
        "plt.legend()"
      ],
      "metadata": {
        "colab": {
          "base_uri": "https://localhost:8080/",
          "height": 312
        },
        "id": "5bFb7gLkGK7d",
        "outputId": "712d80cf-0265-4d72-db11-7148141dde91"
      },
      "execution_count": 18,
      "outputs": [
        {
          "output_type": "execute_result",
          "data": {
            "text/plain": [
              "<matplotlib.legend.Legend at 0x7f8a5f315810>"
            ]
          },
          "metadata": {},
          "execution_count": 18
        },
        {
          "output_type": "display_data",
          "data": {
            "image/png": "[encoded data removed]",
            "text/plain": [
              "<Figure size 432x288 with 1 Axes>"
            ]
          },
          "metadata": {
            "needs_background": "light"
          }
        }
      ]
    }
  ]
}