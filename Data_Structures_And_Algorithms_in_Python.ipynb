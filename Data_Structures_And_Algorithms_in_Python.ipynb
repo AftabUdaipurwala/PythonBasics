{
  "nbformat": 4,
  "nbformat_minor": 0,
  "metadata": {
    "colab": {
      "name": "Data Structures And Algorithms in Python.ipynb",
      "provenance": [],
      "collapsed_sections": [
        "O2dzV_pzJk0H",
        "wNz1Vo5U6Y46",
        "9UCRQL4IMhgF",
        "4j9Vck0csZ2m",
        "3KuSgVrPcsat"
      ],
      "authorship_tag": "ABX9TyOSj3WuIHz50Devl3r5biiu",
      "include_colab_link": true
    },
    "kernelspec": {
      "name": "python3",
      "display_name": "Python 3"
    },
    "language_info": {
      "name": "python"
    }
  },
  "cells": [
    {
      "cell_type": "markdown",
      "metadata": {
        "id": "view-in-github",
        "colab_type": "text"
      },
      "source": [
        "<a href=\"https://colab.research.google.com/github/AftabUdaipurwala/PythonBasics/blob/main/Data_Structures_And_Algorithms_in_Python.ipynb\" target=\"_parent\"><img src=\"https://colab.research.google.com/assets/colab-badge.svg\" alt=\"Open In Colab\"/></a>"
      ]
    },
    {
      "cell_type": "markdown",
      "source": [
        "# Linked list in Python"
      ],
      "metadata": {
        "id": "O2dzV_pzJk0H"
      }
    },
    {
      "cell_type": "code",
      "source": [
        "class Node:\n",
        "    def __init__(self, data=None, next=None):\n",
        "        self.data = data\n",
        "        self.next = next\n",
        "\n",
        "        \n",
        "class linkedlist:\n",
        "  def __init__(self):\n",
        "    self.head=None\n",
        "\n",
        "# inserting at the begining\n",
        "  def insert_at_begining(self,data):\n",
        "    node = Node(data,self.head)\n",
        "    self.head = node\n",
        "\n",
        "  def print(self):\n",
        "    if self.head is None:\n",
        "      print('Linked list is blank')\n",
        "      return\n",
        "      \n",
        "    itr = self.head\n",
        "    listr=''\n",
        "    while itr:\n",
        "      listr +=str(itr.data)+'-->'\n",
        "      itr=itr.next\n",
        "    print(listr)\n",
        "\n",
        "# inserting at the begining\n",
        "  def insert_at_end(self,data):\n",
        "    if self.head is None:\n",
        "      self.head = Node(data,None)\n",
        "      return\n",
        "    itr = self.head\n",
        "    while itr.next:\n",
        "      itr = itr.next\n",
        "    itr.next  = Node(data,None)\n",
        "\n",
        "# list of values as input and create a new fresh linked list\n",
        "  def insert_values(self,data_list):\n",
        "    self.head=None\n",
        "    for data in data_list:\n",
        "      self.insert_at_end(data)\n",
        "\n",
        "# create a function to count the lenght of linked list\n",
        "  def get_length(self):\n",
        "    count=0\n",
        "    itr=self.head\n",
        "    while itr:\n",
        "      count+=1\n",
        "      itr=itr.next\n",
        "    return count\n",
        "# remove element from a given index number\n",
        "  def remove_at(self,index):\n",
        "    if index<0 or index>=self.get_length():\n",
        "      raise Exception('Invalid Index')\n",
        "    if index==0:\n",
        "      self.head=self.head.next\n",
        "      return\n",
        "    count=0\n",
        "    itr = self.head\n",
        "    while itr:\n",
        "      if count == index-1:\n",
        "        itr.next=itr.next.next\n",
        "        break\n",
        "\n",
        "      itr=itr.next\n",
        "      count+=1\n",
        "\n",
        "# insert at a given index\n",
        "  def insert_at(self,index,data):\n",
        "    if index<0 or index>=self.get_length():\n",
        "      raise Exception('Invalid Index')\n",
        "    if index==0:\n",
        "      self.insert_at_begining(data)\n",
        "      return\n",
        "    count=0\n",
        "    itr= self.head\n",
        "    while itr:\n",
        "      if count==index-1:\n",
        "        node=Node(data,itr.next)\n",
        "        itr.next=node\n",
        "        break\n",
        "      itr= itr.next\n",
        "      count+=1\n",
        "\n",
        "    \n",
        "\n"
      ],
      "metadata": {
        "id": "3BF4QOoCWchd"
      },
      "execution_count": 1,
      "outputs": []
    },
    {
      "cell_type": "code",
      "source": [
        "if __name__=='__main__':\n",
        "  l1 = linkedlist()\n",
        "  l1.insert_at_begining(5)\n",
        "  l1.insert_at_begining(89)\n",
        "  l1.insert_at_end(90)\n",
        "  l1.insert_values(['grapes','mango','banana'])\n",
        "  l1.print()\n",
        "  l1.remove_at(1)\n",
        "  l1.print()\n",
        "  l1.insert_at(0,'figs')\n",
        "  l1.print()\n",
        "  print(\"length :\", l1.get_length())"
      ],
      "metadata": {
        "colab": {
          "base_uri": "https://localhost:8080/"
        },
        "id": "LoBddbIWWlST",
        "outputId": "1f701492-630a-40d3-869b-6a856a5bd8a1"
      },
      "execution_count": 2,
      "outputs": [
        {
          "output_type": "stream",
          "name": "stdout",
          "text": [
            "grapes-->mango-->banana-->\n",
            "grapes-->banana-->\n",
            "figs-->grapes-->banana-->\n",
            "length : 3\n"
          ]
        }
      ]
    },
    {
      "cell_type": "markdown",
      "source": [
        "# Hash Table"
      ],
      "metadata": {
        "id": "wNz1Vo5U6Y46"
      }
    },
    {
      "cell_type": "code",
      "source": [
        "def get_hash(key):\n",
        "  h=0\n",
        "  for char in key:\n",
        "    h+=ord(char)\n",
        "  return h%100\n"
      ],
      "metadata": {
        "id": "b2EOVtQS6cGU"
      },
      "execution_count": 3,
      "outputs": []
    },
    {
      "cell_type": "code",
      "source": [
        "ord('m') # getting the asci value of the character"
      ],
      "metadata": {
        "colab": {
          "base_uri": "https://localhost:8080/"
        },
        "id": "5flPfmO7I7Us",
        "outputId": "171c619c-296a-4488-98d6-bef26a45e3b7"
      },
      "execution_count": 4,
      "outputs": [
        {
          "output_type": "execute_result",
          "data": {
            "text/plain": [
              "109"
            ]
          },
          "metadata": {},
          "execution_count": 4
        }
      ]
    },
    {
      "cell_type": "code",
      "source": [
        "get_hash('march 28')"
      ],
      "metadata": {
        "colab": {
          "base_uri": "https://localhost:8080/"
        },
        "id": "eysS0VTNI_Cj",
        "outputId": "fad9d0e1-c593-4eae-ec60-4b22aad7e280"
      },
      "execution_count": 5,
      "outputs": [
        {
          "output_type": "execute_result",
          "data": {
            "text/plain": [
              "61"
            ]
          },
          "metadata": {},
          "execution_count": 5
        }
      ]
    },
    {
      "cell_type": "code",
      "source": [
        "class Hashtable:\n",
        "  def __init__(self):\n",
        "    self.MAX = 100\n",
        "    self.arr = [None for i in range(self.MAX)]\n",
        "\n",
        "  def get_hash(self,key):\n",
        "    h=0\n",
        "    for char in key:\n",
        "      h+=ord(char)\n",
        "    return h%self.MAX\n",
        "\n",
        "  def __setitem__(self,key,value):\n",
        "    h= self.get_hash(key)\n",
        "    self.arr[h]=value\n",
        "  def __getitem__(self,key):\n",
        "    h= self.get_hash(key)\n",
        "    return self.arr[h]\n",
        "\n",
        "  def __delitem__(self,key):\n",
        "    h = self.get_hash(key)\n",
        "    self.arr[h]=None"
      ],
      "metadata": {
        "id": "pp-0NWw7JLfv"
      },
      "execution_count": 6,
      "outputs": []
    },
    {
      "cell_type": "code",
      "source": [
        "t= Hashtable()\n",
        "t['march 6']=130\n",
        "t['march 9']=123\n",
        "t['march 29']=13\n",
        "t.arr"
      ],
      "metadata": {
        "colab": {
          "base_uri": "https://localhost:8080/"
        },
        "id": "pDiXNvcSKWw-",
        "outputId": "7c0ceaab-e526-4ecf-8cf3-8b6cd7494b40"
      },
      "execution_count": 7,
      "outputs": [
        {
          "output_type": "execute_result",
          "data": {
            "text/plain": [
              "[None,\n",
              " None,\n",
              " None,\n",
              " None,\n",
              " None,\n",
              " None,\n",
              " None,\n",
              " None,\n",
              " None,\n",
              " 130,\n",
              " None,\n",
              " None,\n",
              " 123,\n",
              " None,\n",
              " None,\n",
              " None,\n",
              " None,\n",
              " None,\n",
              " None,\n",
              " None,\n",
              " None,\n",
              " None,\n",
              " None,\n",
              " None,\n",
              " None,\n",
              " None,\n",
              " None,\n",
              " None,\n",
              " None,\n",
              " None,\n",
              " None,\n",
              " None,\n",
              " None,\n",
              " None,\n",
              " None,\n",
              " None,\n",
              " None,\n",
              " None,\n",
              " None,\n",
              " None,\n",
              " None,\n",
              " None,\n",
              " None,\n",
              " None,\n",
              " None,\n",
              " None,\n",
              " None,\n",
              " None,\n",
              " None,\n",
              " None,\n",
              " None,\n",
              " None,\n",
              " None,\n",
              " None,\n",
              " None,\n",
              " None,\n",
              " None,\n",
              " None,\n",
              " None,\n",
              " None,\n",
              " None,\n",
              " None,\n",
              " 13,\n",
              " None,\n",
              " None,\n",
              " None,\n",
              " None,\n",
              " None,\n",
              " None,\n",
              " None,\n",
              " None,\n",
              " None,\n",
              " None,\n",
              " None,\n",
              " None,\n",
              " None,\n",
              " None,\n",
              " None,\n",
              " None,\n",
              " None,\n",
              " None,\n",
              " None,\n",
              " None,\n",
              " None,\n",
              " None,\n",
              " None,\n",
              " None,\n",
              " None,\n",
              " None,\n",
              " None,\n",
              " None,\n",
              " None,\n",
              " None,\n",
              " None,\n",
              " None,\n",
              " None,\n",
              " None,\n",
              " None,\n",
              " None,\n",
              " None]"
            ]
          },
          "metadata": {},
          "execution_count": 7
        }
      ]
    },
    {
      "cell_type": "code",
      "source": [
        "del t['march 6']\n",
        "t.arr"
      ],
      "metadata": {
        "colab": {
          "base_uri": "https://localhost:8080/"
        },
        "id": "IeZsOAn5MXcA",
        "outputId": "7ec75707-79c2-4894-c4e1-4659aec85934"
      },
      "execution_count": 8,
      "outputs": [
        {
          "output_type": "execute_result",
          "data": {
            "text/plain": [
              "[None,\n",
              " None,\n",
              " None,\n",
              " None,\n",
              " None,\n",
              " None,\n",
              " None,\n",
              " None,\n",
              " None,\n",
              " None,\n",
              " None,\n",
              " None,\n",
              " 123,\n",
              " None,\n",
              " None,\n",
              " None,\n",
              " None,\n",
              " None,\n",
              " None,\n",
              " None,\n",
              " None,\n",
              " None,\n",
              " None,\n",
              " None,\n",
              " None,\n",
              " None,\n",
              " None,\n",
              " None,\n",
              " None,\n",
              " None,\n",
              " None,\n",
              " None,\n",
              " None,\n",
              " None,\n",
              " None,\n",
              " None,\n",
              " None,\n",
              " None,\n",
              " None,\n",
              " None,\n",
              " None,\n",
              " None,\n",
              " None,\n",
              " None,\n",
              " None,\n",
              " None,\n",
              " None,\n",
              " None,\n",
              " None,\n",
              " None,\n",
              " None,\n",
              " None,\n",
              " None,\n",
              " None,\n",
              " None,\n",
              " None,\n",
              " None,\n",
              " None,\n",
              " None,\n",
              " None,\n",
              " None,\n",
              " None,\n",
              " 13,\n",
              " None,\n",
              " None,\n",
              " None,\n",
              " None,\n",
              " None,\n",
              " None,\n",
              " None,\n",
              " None,\n",
              " None,\n",
              " None,\n",
              " None,\n",
              " None,\n",
              " None,\n",
              " None,\n",
              " None,\n",
              " None,\n",
              " None,\n",
              " None,\n",
              " None,\n",
              " None,\n",
              " None,\n",
              " None,\n",
              " None,\n",
              " None,\n",
              " None,\n",
              " None,\n",
              " None,\n",
              " None,\n",
              " None,\n",
              " None,\n",
              " None,\n",
              " None,\n",
              " None,\n",
              " None,\n",
              " None,\n",
              " None,\n",
              " None]"
            ]
          },
          "metadata": {},
          "execution_count": 8
        }
      ]
    },
    {
      "cell_type": "markdown",
      "source": [
        "# Handling Collisions"
      ],
      "metadata": {
        "id": "9UCRQL4IMhgF"
      }
    },
    {
      "cell_type": "code",
      "source": [
        "# implementing chaining \n",
        "def get_hash(key):\n",
        "  h=0\n",
        "  for char in key:\n",
        "    h+=ord(char)\n",
        "  return h%100\n",
        "\n",
        "class Hashtable:\n",
        "  def __init__(self):\n",
        "    self.MAX = 100\n",
        "    self.arr = [[] for i in range(self.MAX)]\n",
        "\n",
        "  def get_hash(self,key):\n",
        "    h=0\n",
        "    for char in key:\n",
        "      h+=ord(char)\n",
        "    return h%self.MAX\n",
        "\n",
        "  def __setitem__(self,key,value):\n",
        "    h= self.get_hash(key)\n",
        "    found = False\n",
        "    for idx, element in enumerate(self.arr[h]):\n",
        "      if len(element)==2 and element[0]==key:\n",
        "        self.arr[h][idx]=(key,value)\n",
        "        found = True\n",
        "        break\n",
        "    self.arr[h].append((key,value))\n",
        "\n",
        "\n",
        "  def __getitem__(self,key):\n",
        "    h= self.get_hash(key)\n",
        "    for element in self.arr[h]:\n",
        "      if element[0]==key:\n",
        "        return element[1]\n",
        "\n",
        "\n",
        "  def __delitem__(self,key):\n",
        "    h = self.get_hash(key)\n",
        "    self.arr[h]=None"
      ],
      "metadata": {
        "id": "EaBkbMctMj7p"
      },
      "execution_count": 9,
      "outputs": []
    },
    {
      "cell_type": "code",
      "source": [
        "t= Hashtable()\n",
        "t['march 6']=123\n",
        "t['march 9']=130\n",
        "t['march 9']=123\n",
        "t['march 17']=13\n",
        "del t['march 9']\n",
        "t.arr"
      ],
      "metadata": {
        "id": "JNVQR8yfqgbC",
        "colab": {
          "base_uri": "https://localhost:8080/"
        },
        "outputId": "289b6739-4767-4b29-d1d4-44e0d6192b8b"
      },
      "execution_count": 10,
      "outputs": [
        {
          "output_type": "execute_result",
          "data": {
            "text/plain": [
              "[[],\n",
              " [],\n",
              " [],\n",
              " [],\n",
              " [],\n",
              " [],\n",
              " [],\n",
              " [],\n",
              " [],\n",
              " [('march 6', 123)],\n",
              " [],\n",
              " [],\n",
              " None,\n",
              " [],\n",
              " [],\n",
              " [],\n",
              " [],\n",
              " [],\n",
              " [],\n",
              " [],\n",
              " [],\n",
              " [],\n",
              " [],\n",
              " [],\n",
              " [],\n",
              " [],\n",
              " [],\n",
              " [],\n",
              " [],\n",
              " [],\n",
              " [],\n",
              " [],\n",
              " [],\n",
              " [],\n",
              " [],\n",
              " [],\n",
              " [],\n",
              " [],\n",
              " [],\n",
              " [],\n",
              " [],\n",
              " [],\n",
              " [],\n",
              " [],\n",
              " [],\n",
              " [],\n",
              " [],\n",
              " [],\n",
              " [],\n",
              " [],\n",
              " [],\n",
              " [],\n",
              " [],\n",
              " [],\n",
              " [],\n",
              " [],\n",
              " [],\n",
              " [],\n",
              " [],\n",
              " [('march 17', 13)],\n",
              " [],\n",
              " [],\n",
              " [],\n",
              " [],\n",
              " [],\n",
              " [],\n",
              " [],\n",
              " [],\n",
              " [],\n",
              " [],\n",
              " [],\n",
              " [],\n",
              " [],\n",
              " [],\n",
              " [],\n",
              " [],\n",
              " [],\n",
              " [],\n",
              " [],\n",
              " [],\n",
              " [],\n",
              " [],\n",
              " [],\n",
              " [],\n",
              " [],\n",
              " [],\n",
              " [],\n",
              " [],\n",
              " [],\n",
              " [],\n",
              " [],\n",
              " [],\n",
              " [],\n",
              " [],\n",
              " [],\n",
              " [],\n",
              " [],\n",
              " [],\n",
              " [],\n",
              " []]"
            ]
          },
          "metadata": {},
          "execution_count": 10
        }
      ]
    },
    {
      "cell_type": "markdown",
      "source": [
        "# Stack data structures"
      ],
      "metadata": {
        "id": "4j9Vck0csZ2m"
      }
    },
    {
      "cell_type": "code",
      "source": [
        "from collections import deque\n",
        "stack = deque()\n",
        "dir(stack)"
      ],
      "metadata": {
        "id": "cAPjmlPbscYg",
        "colab": {
          "base_uri": "https://localhost:8080/"
        },
        "outputId": "25e2abcc-de2e-475c-aa5a-d761cf843e2c"
      },
      "execution_count": 11,
      "outputs": [
        {
          "output_type": "execute_result",
          "data": {
            "text/plain": [
              "['__add__',\n",
              " '__bool__',\n",
              " '__class__',\n",
              " '__contains__',\n",
              " '__copy__',\n",
              " '__delattr__',\n",
              " '__delitem__',\n",
              " '__dir__',\n",
              " '__doc__',\n",
              " '__eq__',\n",
              " '__format__',\n",
              " '__ge__',\n",
              " '__getattribute__',\n",
              " '__getitem__',\n",
              " '__gt__',\n",
              " '__hash__',\n",
              " '__iadd__',\n",
              " '__imul__',\n",
              " '__init__',\n",
              " '__init_subclass__',\n",
              " '__iter__',\n",
              " '__le__',\n",
              " '__len__',\n",
              " '__lt__',\n",
              " '__mul__',\n",
              " '__ne__',\n",
              " '__new__',\n",
              " '__reduce__',\n",
              " '__reduce_ex__',\n",
              " '__repr__',\n",
              " '__reversed__',\n",
              " '__rmul__',\n",
              " '__setattr__',\n",
              " '__setitem__',\n",
              " '__sizeof__',\n",
              " '__str__',\n",
              " '__subclasshook__',\n",
              " 'append',\n",
              " 'appendleft',\n",
              " 'clear',\n",
              " 'copy',\n",
              " 'count',\n",
              " 'extend',\n",
              " 'extendleft',\n",
              " 'index',\n",
              " 'insert',\n",
              " 'maxlen',\n",
              " 'pop',\n",
              " 'popleft',\n",
              " 'remove',\n",
              " 'reverse',\n",
              " 'rotate']"
            ]
          },
          "metadata": {},
          "execution_count": 11
        }
      ]
    },
    {
      "cell_type": "code",
      "source": [
        "stack.append('a')\n",
        "stack.append('b')\n",
        "stack.append('c')\n",
        "stack\n",
        "stack.pop()\n",
        "stack"
      ],
      "metadata": {
        "colab": {
          "base_uri": "https://localhost:8080/"
        },
        "id": "qB3KuSL3Y_35",
        "outputId": "6f190c40-948f-4b32-9c41-9a1b5d754176"
      },
      "execution_count": 12,
      "outputs": [
        {
          "output_type": "execute_result",
          "data": {
            "text/plain": [
              "deque(['a', 'b'])"
            ]
          },
          "metadata": {},
          "execution_count": 12
        }
      ]
    },
    {
      "cell_type": "markdown",
      "source": [
        "# Queue Data Structures"
      ],
      "metadata": {
        "id": "3KuSgVrPcsat"
      }
    },
    {
      "cell_type": "code",
      "source": [
        "# using List along with insert and pop function, insert will push already exisiting elements forward and pop will remove the first element enetered\n",
        "s=[]\n",
        "s.insert(0,6)\n",
        "s.insert(0,7)\n",
        "s.insert(0,8)\n",
        "s.insert(0,9)\n",
        "s"
      ],
      "metadata": {
        "colab": {
          "base_uri": "https://localhost:8080/"
        },
        "id": "_tO9mJ-Fcr3M",
        "outputId": "c4b88fae-ca72-4596-fb5e-95484bef1dee"
      },
      "execution_count": 13,
      "outputs": [
        {
          "output_type": "execute_result",
          "data": {
            "text/plain": [
              "[9, 8, 7, 6]"
            ]
          },
          "metadata": {},
          "execution_count": 13
        }
      ]
    },
    {
      "cell_type": "code",
      "source": [
        "s.pop()\n",
        "s"
      ],
      "metadata": {
        "colab": {
          "base_uri": "https://localhost:8080/"
        },
        "id": "201TBjwBdH-O",
        "outputId": "73d8c5ac-3ea3-4c90-abda-14d9bc0d43d7"
      },
      "execution_count": 14,
      "outputs": [
        {
          "output_type": "execute_result",
          "data": {
            "text/plain": [
              "[9, 8, 7]"
            ]
          },
          "metadata": {},
          "execution_count": 14
        }
      ]
    },
    {
      "cell_type": "code",
      "source": [
        "from collections import deque\n",
        "q= deque()\n",
        "q.appendleft(6)\n",
        "q.appendleft(7)\n",
        "q.appendleft(8)\n",
        "q.appendleft(9)\n",
        "q"
      ],
      "metadata": {
        "colab": {
          "base_uri": "https://localhost:8080/"
        },
        "id": "w_cYAQgkdMFZ",
        "outputId": "51c15e91-99ff-4c89-caf5-b25cfac5b671"
      },
      "execution_count": 15,
      "outputs": [
        {
          "output_type": "execute_result",
          "data": {
            "text/plain": [
              "deque([9, 8, 7, 6])"
            ]
          },
          "metadata": {},
          "execution_count": 15
        }
      ]
    },
    {
      "cell_type": "code",
      "source": [
        "q.pop()\n",
        "q"
      ],
      "metadata": {
        "colab": {
          "base_uri": "https://localhost:8080/"
        },
        "id": "nskQIYWvdchU",
        "outputId": "b055121e-95c8-4d7f-9af3-079b01d7b4a9"
      },
      "execution_count": 16,
      "outputs": [
        {
          "output_type": "execute_result",
          "data": {
            "text/plain": [
              "deque([9, 8, 7])"
            ]
          },
          "metadata": {},
          "execution_count": 16
        }
      ]
    },
    {
      "cell_type": "code",
      "source": [
        "class queues:\n",
        "  def __init__(self):\n",
        "    self.buffer=deque()\n",
        "\n",
        "  def enque(self,val):\n",
        "    self.buffer.appendleft(val)\n",
        "\n",
        "  def dequen(self):\n",
        "    self.buffer.pop()\n",
        "\n",
        "  def is_empty(self):\n",
        "    return len(self.buffer)==0\n",
        "\n",
        "  def size(self):\n",
        "    return len(self.buffer)"
      ],
      "metadata": {
        "id": "nlBk8YMNdtLt"
      },
      "execution_count": 17,
      "outputs": []
    },
    {
      "cell_type": "code",
      "source": [
        "pq = queues()\n",
        "pq.enque({'a':10})\n",
        "pq.enque({'c':40})\n",
        "pq.enque({'d':30})\n",
        "pq.enque({'b':20})\n",
        "print(pq.buffer)\n",
        "pq.dequen()"
      ],
      "metadata": {
        "colab": {
          "base_uri": "https://localhost:8080/"
        },
        "id": "DUGnRfnLeR6m",
        "outputId": "7aacd73e-b1b5-428a-c29c-9e81e4129f0e"
      },
      "execution_count": 18,
      "outputs": [
        {
          "output_type": "stream",
          "name": "stdout",
          "text": [
            "deque([{'b': 20}, {'d': 30}, {'c': 40}, {'a': 10}])\n"
          ]
        }
      ]
    },
    {
      "cell_type": "code",
      "source": [
        "pq.size(), pq.dequen(), pq.is_empty()"
      ],
      "metadata": {
        "colab": {
          "base_uri": "https://localhost:8080/"
        },
        "id": "VIJT9HCAetPB",
        "outputId": "92a0f49d-d21b-438c-e363-71f2f7836b55"
      },
      "execution_count": 19,
      "outputs": [
        {
          "output_type": "execute_result",
          "data": {
            "text/plain": [
              "(3, None, False)"
            ]
          },
          "metadata": {},
          "execution_count": 19
        }
      ]
    },
    {
      "cell_type": "markdown",
      "source": [
        "# General Tree Structures"
      ],
      "metadata": {
        "id": "djNoOrp8fhIs"
      }
    },
    {
      "cell_type": "code",
      "source": [
        "class TreeNode:\n",
        "    def __init__(self, data):\n",
        "        self.data = data\n",
        "        self.children = []\n",
        "        self.parent = None\n",
        "\n",
        "    def get_level(self):\n",
        "        level = 0\n",
        "        p = self.parent\n",
        "        while p:\n",
        "            level += 1\n",
        "            p = p.parent\n",
        "\n",
        "        return level\n",
        "\n",
        "    def print_tree(self):\n",
        "        spaces = ' ' * self.get_level() * 3\n",
        "        prefix = spaces + \"|__\" if self.parent else \"\"\n",
        "        print(prefix + self.data)\n",
        "        if self.children:\n",
        "            for child in self.children:\n",
        "                child.print_tree()\n",
        "\n",
        "    def add_child(self, child):\n",
        "        child.parent = self\n",
        "        self.children.append(child)\n",
        "\n",
        "def build_product_tree():\n",
        "    root = TreeNode(\"Electronics\")\n",
        "\n",
        "    laptop = TreeNode(\"Laptop\")\n",
        "    laptop.add_child(TreeNode(\"Mac\"))\n",
        "    laptop.add_child(TreeNode(\"Surface\"))\n",
        "    laptop.add_child(TreeNode(\"Thinkpad\"))\n",
        "\n",
        "    cellphone = TreeNode(\"Cell Phone\")\n",
        "    cellphone.add_child(TreeNode(\"iPhone\"))\n",
        "    cellphone.add_child(TreeNode(\"Google Pixel\"))\n",
        "    cellphone.add_child(TreeNode(\"Vivo\"))\n",
        "\n",
        "    tv = TreeNode(\"TV\")\n",
        "    tv.add_child(TreeNode(\"Samsung\"))\n",
        "    tv.add_child(TreeNode(\"LG\"))\n",
        "\n",
        "    root.add_child(laptop)\n",
        "    root.add_child(cellphone)\n",
        "    root.add_child(tv)\n",
        "\n",
        "    root.print_tree()\n",
        "\n",
        "if __name__ == '__main__':\n",
        "    build_product_tree()"
      ],
      "metadata": {
        "id": "_JN9ABGzfnmd",
        "colab": {
          "base_uri": "https://localhost:8080/"
        },
        "outputId": "90dd4902-aba7-4f59-f2bf-76731ae6f67f"
      },
      "execution_count": 20,
      "outputs": [
        {
          "output_type": "stream",
          "name": "stdout",
          "text": [
            "Electronics\n",
            "   |__Laptop\n",
            "      |__Mac\n",
            "      |__Surface\n",
            "      |__Thinkpad\n",
            "   |__Cell Phone\n",
            "      |__iPhone\n",
            "      |__Google Pixel\n",
            "      |__Vivo\n",
            "   |__TV\n",
            "      |__Samsung\n",
            "      |__LG\n"
          ]
        }
      ]
    },
    {
      "cell_type": "markdown",
      "source": [
        "# Binary Search Tree"
      ],
      "metadata": {
        "id": "f85eT3FUSear"
      }
    },
    {
      "cell_type": "code",
      "source": [
        "class BinarySearchTreeNode:\n",
        "    def __init__(self, data):\n",
        "        self.data = data\n",
        "        self.left = None\n",
        "        self.right = None\n",
        "\n",
        "    def add_child(self, data):\n",
        "        if data == self.data:\n",
        "            return # node already exist\n",
        "\n",
        "        if data < self.data:\n",
        "            if self.left:\n",
        "                self.left.add_child(data)\n",
        "            else:\n",
        "                self.left = BinarySearchTreeNode(data)\n",
        "        else:\n",
        "            if self.right:\n",
        "                self.right.add_child(data)\n",
        "            else:\n",
        "                self.right = BinarySearchTreeNode(data)\n",
        "\n",
        "\n",
        "    def search(self, val):\n",
        "        if self.data == val:\n",
        "            return True\n",
        "\n",
        "        if val < self.data:\n",
        "            if self.left:\n",
        "                return self.left.search(val)\n",
        "            else:\n",
        "                return False\n",
        "\n",
        "        if val > self.data:\n",
        "            if self.right:\n",
        "                return self.right.search(val)\n",
        "            else:\n",
        "                return False\n",
        "\n",
        "    def in_order_traversal(self):\n",
        "        elements = []\n",
        "        if self.left:\n",
        "            elements += self.left.in_order_traversal()\n",
        "\n",
        "        elements.append(self.data)\n",
        "\n",
        "        if self.right:\n",
        "            elements += self.right.in_order_traversal()\n",
        "\n",
        "        return elements\n",
        "\n",
        "\n",
        "def build_tree(elements):\n",
        "    print(\"Building tree with these elements:\",elements)\n",
        "    root = BinarySearchTreeNode(elements[0])\n",
        "\n",
        "    for i in range(1,len(elements)):\n",
        "        root.add_child(elements[i])\n",
        "\n",
        "    return root\n",
        "\n",
        "if __name__ == '__main__':\n",
        "    countries = [\"India\",\"Pakistan\",\"Germany\", \"USA\",\"China\",\"India\",\"UK\",\"USA\"]\n",
        "    country_tree = build_tree(countries)\n",
        "\n",
        "    print(\"UK is in the list? \", country_tree.search(\"UK\"))\n",
        "    print(\"Sweden is in the list? \", country_tree.search(\"Sweden\"))\n",
        "\n",
        "    numbers_tree = build_tree([17, 4, 1, 20, 9, 23, 18, 34])\n",
        "    print(\"In order traversal gives this sorted list:\",numbers_tree.in_order_traversal())"
      ],
      "metadata": {
        "id": "_k-72abxSlAy",
        "colab": {
          "base_uri": "https://localhost:8080/"
        },
        "outputId": "2351cc4f-8120-4a54-8d3f-be4abfa137bd"
      },
      "execution_count": 21,
      "outputs": [
        {
          "output_type": "stream",
          "name": "stdout",
          "text": [
            "Building tree with these elements: ['India', 'Pakistan', 'Germany', 'USA', 'China', 'India', 'UK', 'USA']\n",
            "UK is in the list?  True\n",
            "Sweden is in the list?  False\n",
            "Building tree with these elements: [17, 4, 1, 20, 9, 23, 18, 34]\n",
            "In order traversal gives this sorted list: [1, 4, 9, 17, 18, 20, 23, 34]\n"
          ]
        }
      ]
    },
    {
      "cell_type": "code",
      "source": [
        "# Homework\n",
        "class BinarySearchTreeNode:\n",
        "    def __init__(self, data):\n",
        "        self.data = data\n",
        "        self.left = None\n",
        "        self.right = None\n",
        "\n",
        "    def add_child(self, data):\n",
        "        if data == self.data:\n",
        "            return # node already exist\n",
        "\n",
        "        if data < self.data:\n",
        "            if self.left:\n",
        "                self.left.add_child(data)\n",
        "            else:\n",
        "                self.left = BinarySearchTreeNode(data)\n",
        "        else:\n",
        "            if self.right:\n",
        "                self.right.add_child(data)\n",
        "            else:\n",
        "                self.right = BinarySearchTreeNode(data)\n",
        "\n",
        "\n",
        "    def search(self, val):\n",
        "        if self.data == val:\n",
        "            return True\n",
        "\n",
        "        if val < self.data:\n",
        "            if self.left:\n",
        "                return self.left.search(val)\n",
        "            else:\n",
        "                return False\n",
        "\n",
        "        if val > self.data:\n",
        "            if self.right:\n",
        "                return self.right.search(val)\n",
        "            else:\n",
        "                return False\n",
        "\n",
        "    def in_order_traversal(self):\n",
        "        elements = []\n",
        "        if self.left:\n",
        "            elements += self.left.in_order_traversal()\n",
        "\n",
        "        elements.append(self.data)\n",
        "\n",
        "        if self.right:\n",
        "            elements += self.right.in_order_traversal()\n",
        "\n",
        "        return elements\n",
        "\n",
        "    def post_order_traversal(self):\n",
        "        elements = []\n",
        "        if self.left:\n",
        "            elements += self.left.post_order_traversal()\n",
        "        if self.right:\n",
        "            elements += self.right.post_order_traversal()\n",
        "\n",
        "        elements.append(self.data)\n",
        "\n",
        "        return elements\n",
        "\n",
        "    def pre_order_traversal(self):\n",
        "        elements = [self.data]\n",
        "        if self.left:\n",
        "            elements += self.left.pre_order_traversal()\n",
        "        if self.right:\n",
        "            elements += self.right.pre_order_traversal()\n",
        "\n",
        "        return elements\n",
        "\n",
        "    def find_max(self):\n",
        "        if self.right is None:\n",
        "            return self.data\n",
        "        return self.right.find_max()\n",
        "\n",
        "    def find_min(self):\n",
        "        if self.left is None:\n",
        "            return self.data\n",
        "        return self.left.find_min()\n",
        "\n",
        "    def calculate_sum(self):\n",
        "        left_sum = self.left.calculate_sum() if self.left else 0\n",
        "        right_sum = self.right.calculate_sum() if self.right else 0\n",
        "        return self.data + left_sum + right_sum\n",
        "\n",
        "def build_tree(elements):\n",
        "    root = BinarySearchTreeNode(elements[0])\n",
        "\n",
        "    for i in range(1,len(elements)):\n",
        "        root.add_child(elements[i])\n",
        "\n",
        "    return root\n",
        "\n",
        "if __name__ == '__main__':\n",
        "    numbers = [17, 4, 1, 20, 9, 23, 18, 34]\n",
        "\n",
        "    numbers = [15,12,7,14,27,20,23,88 ]\n",
        "\n",
        "    numbers_tree = build_tree(numbers)\n",
        "    print(\"Input numbers:\",numbers)\n",
        "    print(\"Min:\",numbers_tree.find_min())\n",
        "    print(\"Max:\",numbers_tree.find_max())\n",
        "    print(\"Sum:\", numbers_tree.calculate_sum())\n",
        "    print(\"In order traversal:\", numbers_tree.in_order_traversal())\n",
        "    print(\"Pre order traversal:\", numbers_tree.pre_order_traversal())\n",
        "    print(\"Post order traversal:\", numbers_tree.post_order_traversal())"
      ],
      "metadata": {
        "colab": {
          "base_uri": "https://localhost:8080/"
        },
        "id": "PTWT7UYGrNhF",
        "outputId": "eca45f0b-04d8-4a5e-e157-49f10534a895"
      },
      "execution_count": 22,
      "outputs": [
        {
          "output_type": "stream",
          "name": "stdout",
          "text": [
            "Input numbers: [15, 12, 7, 14, 27, 20, 23, 88]\n",
            "Min: 7\n",
            "Max: 88\n",
            "Sum: 206\n",
            "In order traversal: [7, 12, 14, 15, 20, 23, 27, 88]\n",
            "Pre order traversal: [15, 12, 7, 14, 27, 20, 23, 88]\n",
            "Post order traversal: [7, 14, 12, 23, 20, 88, 27, 15]\n"
          ]
        }
      ]
    }
  ]
}