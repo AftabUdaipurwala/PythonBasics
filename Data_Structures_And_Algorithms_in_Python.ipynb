{
  "nbformat": 4,
  "nbformat_minor": 0,
  "metadata": {
    "colab": {
      "name": "Data Structures And Algorithms in Python.ipynb",
      "provenance": [],
      "collapsed_sections": [
        "O2dzV_pzJk0H",
        "wNz1Vo5U6Y46",
        "9UCRQL4IMhgF",
        "4j9Vck0csZ2m"
      ],
      "authorship_tag": "ABX9TyOBIZHBUTe1nWdkNyosoeP6",
      "include_colab_link": true
    },
    "kernelspec": {
      "name": "python3",
      "display_name": "Python 3"
    },
    "language_info": {
      "name": "python"
    }
  },
  "cells": [
    {
      "cell_type": "markdown",
      "metadata": {
        "id": "view-in-github",
        "colab_type": "text"
      },
      "source": [
        "<a href=\"https://colab.research.google.com/github/AftabUdaipurwala/PythonBasics/blob/main/Data_Structures_And_Algorithms_in_Python.ipynb\" target=\"_parent\"><img src=\"https://colab.research.google.com/assets/colab-badge.svg\" alt=\"Open In Colab\"/></a>"
      ]
    },
    {
      "cell_type": "markdown",
      "source": [
        "# Linked list in Python"
      ],
      "metadata": {
        "id": "O2dzV_pzJk0H"
      }
    },
    {
      "cell_type": "code",
      "source": [
        "class Node:\n",
        "    def __init__(self, data=None, next=None):\n",
        "        self.data = data\n",
        "        self.next = next\n",
        "\n",
        "        \n",
        "class linkedlist:\n",
        "  def __init__(self):\n",
        "    self.head=None\n",
        "\n",
        "# inserting at the begining\n",
        "  def insert_at_begining(self,data):\n",
        "    node = Node(data,self.head)\n",
        "    self.head = node\n",
        "\n",
        "  def print(self):\n",
        "    if self.head is None:\n",
        "      print('Linked list is blank')\n",
        "      return\n",
        "      \n",
        "    itr = self.head\n",
        "    listr=''\n",
        "    while itr:\n",
        "      listr +=str(itr.data)+'-->'\n",
        "      itr=itr.next\n",
        "    print(listr)\n",
        "\n",
        "# inserting at the begining\n",
        "  def insert_at_end(self,data):\n",
        "    if self.head is None:\n",
        "      self.head = Node(data,None)\n",
        "      return\n",
        "    itr = self.head\n",
        "    while itr.next:\n",
        "      itr = itr.next\n",
        "    itr.next  = Node(data,None)\n",
        "\n",
        "# list of values as input and create a new fresh linked list\n",
        "  def insert_values(self,data_list):\n",
        "    self.head=None\n",
        "    for data in data_list:\n",
        "      self.insert_at_end(data)\n",
        "\n",
        "# create a function to count the lenght of linked list\n",
        "  def get_length(self):\n",
        "    count=0\n",
        "    itr=self.head\n",
        "    while itr:\n",
        "      count+=1\n",
        "      itr=itr.next\n",
        "    return count\n",
        "# remove element from a given index number\n",
        "  def remove_at(self,index):\n",
        "    if index<0 or index>=self.get_length():\n",
        "      raise Exception('Invalid Index')\n",
        "    if index==0:\n",
        "      self.head=self.head.next\n",
        "      return\n",
        "    count=0\n",
        "    itr = self.head\n",
        "    while itr:\n",
        "      if count == index-1:\n",
        "        itr.next=itr.next.next\n",
        "        break\n",
        "\n",
        "      itr=itr.next\n",
        "      count+=1\n",
        "\n",
        "# insert at a given index\n",
        "  def insert_at(self,index,data):\n",
        "    if index<0 or index>=self.get_length():\n",
        "      raise Exception('Invalid Index')\n",
        "    if index==0:\n",
        "      self.insert_at_begining(data)\n",
        "      return\n",
        "    count=0\n",
        "    itr= self.head\n",
        "    while itr:\n",
        "      if count==index-1:\n",
        "        node=Node(data,itr.next)\n",
        "        itr.next=node\n",
        "        break\n",
        "      itr= itr.next\n",
        "      count+=1\n",
        "\n",
        "    \n",
        "\n"
      ],
      "metadata": {
        "id": "3BF4QOoCWchd"
      },
      "execution_count": 1,
      "outputs": []
    },
    {
      "cell_type": "code",
      "source": [
        "if __name__=='__main__':\n",
        "  l1 = linkedlist()\n",
        "  l1.insert_at_begining(5)\n",
        "  l1.insert_at_begining(89)\n",
        "  l1.insert_at_end(90)\n",
        "  l1.insert_values(['grapes','mango','banana'])\n",
        "  l1.print()\n",
        "  l1.remove_at(1)\n",
        "  l1.print()\n",
        "  l1.insert_at(0,'figs')\n",
        "  l1.print()\n",
        "  print(\"length :\", l1.get_length())"
      ],
      "metadata": {
        "colab": {
          "base_uri": "https://localhost:8080/"
        },
        "id": "LoBddbIWWlST",
        "outputId": "e093017f-ad56-4e7a-df39-b74fa75efa1a"
      },
      "execution_count": 2,
      "outputs": [
        {
          "output_type": "stream",
          "name": "stdout",
          "text": [
            "grapes-->mango-->banana-->\n",
            "grapes-->banana-->\n",
            "figs-->grapes-->banana-->\n",
            "length : 3\n"
          ]
        }
      ]
    },
    {
      "cell_type": "markdown",
      "source": [
        "# Hash Table"
      ],
      "metadata": {
        "id": "wNz1Vo5U6Y46"
      }
    },
    {
      "cell_type": "code",
      "source": [
        "def get_hash(key):\n",
        "  h=0\n",
        "  for char in key:\n",
        "    h+=ord(char)\n",
        "  return h%100\n"
      ],
      "metadata": {
        "id": "b2EOVtQS6cGU"
      },
      "execution_count": 3,
      "outputs": []
    },
    {
      "cell_type": "code",
      "source": [
        "ord('m') # getting the asci value of the character"
      ],
      "metadata": {
        "colab": {
          "base_uri": "https://localhost:8080/"
        },
        "id": "5flPfmO7I7Us",
        "outputId": "510953c9-5a9c-4cba-cc93-7ddcceaaa7b8"
      },
      "execution_count": 4,
      "outputs": [
        {
          "output_type": "execute_result",
          "data": {
            "text/plain": [
              "109"
            ]
          },
          "metadata": {},
          "execution_count": 4
        }
      ]
    },
    {
      "cell_type": "code",
      "source": [
        "get_hash('march 28')"
      ],
      "metadata": {
        "colab": {
          "base_uri": "https://localhost:8080/"
        },
        "id": "eysS0VTNI_Cj",
        "outputId": "c5a2e9eb-19b6-44f4-8fdf-0eb70d5dced0"
      },
      "execution_count": 5,
      "outputs": [
        {
          "output_type": "execute_result",
          "data": {
            "text/plain": [
              "61"
            ]
          },
          "metadata": {},
          "execution_count": 5
        }
      ]
    },
    {
      "cell_type": "code",
      "source": [
        "class Hashtable:\n",
        "  def __init__(self):\n",
        "    self.MAX = 100\n",
        "    self.arr = [None for i in range(self.MAX)]\n",
        "\n",
        "  def get_hash(self,key):\n",
        "    h=0\n",
        "    for char in key:\n",
        "      h+=ord(char)\n",
        "    return h%self.MAX\n",
        "\n",
        "  def __setitem__(self,key,value):\n",
        "    h= self.get_hash(key)\n",
        "    self.arr[h]=value\n",
        "  def __getitem__(self,key):\n",
        "    h= self.get_hash(key)\n",
        "    return self.arr[h]\n",
        "\n",
        "  def __delitem__(self,key):\n",
        "    h = self.get_hash(key)\n",
        "    self.arr[h]=None"
      ],
      "metadata": {
        "id": "pp-0NWw7JLfv"
      },
      "execution_count": 6,
      "outputs": []
    },
    {
      "cell_type": "code",
      "source": [
        "t= Hashtable()\n",
        "t['march 6']=130\n",
        "t['march 9']=123\n",
        "t['march 29']=13\n",
        "t.arr"
      ],
      "metadata": {
        "colab": {
          "base_uri": "https://localhost:8080/"
        },
        "id": "pDiXNvcSKWw-",
        "outputId": "fcfb5bf2-ee9a-4d58-f0ba-4947f8406be0"
      },
      "execution_count": 7,
      "outputs": [
        {
          "output_type": "execute_result",
          "data": {
            "text/plain": [
              "[None,\n",
              " None,\n",
              " None,\n",
              " None,\n",
              " None,\n",
              " None,\n",
              " None,\n",
              " None,\n",
              " None,\n",
              " 130,\n",
              " None,\n",
              " None,\n",
              " 123,\n",
              " None,\n",
              " None,\n",
              " None,\n",
              " None,\n",
              " None,\n",
              " None,\n",
              " None,\n",
              " None,\n",
              " None,\n",
              " None,\n",
              " None,\n",
              " None,\n",
              " None,\n",
              " None,\n",
              " None,\n",
              " None,\n",
              " None,\n",
              " None,\n",
              " None,\n",
              " None,\n",
              " None,\n",
              " None,\n",
              " None,\n",
              " None,\n",
              " None,\n",
              " None,\n",
              " None,\n",
              " None,\n",
              " None,\n",
              " None,\n",
              " None,\n",
              " None,\n",
              " None,\n",
              " None,\n",
              " None,\n",
              " None,\n",
              " None,\n",
              " None,\n",
              " None,\n",
              " None,\n",
              " None,\n",
              " None,\n",
              " None,\n",
              " None,\n",
              " None,\n",
              " None,\n",
              " None,\n",
              " None,\n",
              " None,\n",
              " 13,\n",
              " None,\n",
              " None,\n",
              " None,\n",
              " None,\n",
              " None,\n",
              " None,\n",
              " None,\n",
              " None,\n",
              " None,\n",
              " None,\n",
              " None,\n",
              " None,\n",
              " None,\n",
              " None,\n",
              " None,\n",
              " None,\n",
              " None,\n",
              " None,\n",
              " None,\n",
              " None,\n",
              " None,\n",
              " None,\n",
              " None,\n",
              " None,\n",
              " None,\n",
              " None,\n",
              " None,\n",
              " None,\n",
              " None,\n",
              " None,\n",
              " None,\n",
              " None,\n",
              " None,\n",
              " None,\n",
              " None,\n",
              " None,\n",
              " None]"
            ]
          },
          "metadata": {},
          "execution_count": 7
        }
      ]
    },
    {
      "cell_type": "code",
      "source": [
        "del t['march 6']\n",
        "t.arr"
      ],
      "metadata": {
        "colab": {
          "base_uri": "https://localhost:8080/"
        },
        "id": "IeZsOAn5MXcA",
        "outputId": "e17cf9ba-cdf3-4ae1-de8e-f6359564366d"
      },
      "execution_count": 8,
      "outputs": [
        {
          "output_type": "execute_result",
          "data": {
            "text/plain": [
              "[None,\n",
              " None,\n",
              " None,\n",
              " None,\n",
              " None,\n",
              " None,\n",
              " None,\n",
              " None,\n",
              " None,\n",
              " None,\n",
              " None,\n",
              " None,\n",
              " 123,\n",
              " None,\n",
              " None,\n",
              " None,\n",
              " None,\n",
              " None,\n",
              " None,\n",
              " None,\n",
              " None,\n",
              " None,\n",
              " None,\n",
              " None,\n",
              " None,\n",
              " None,\n",
              " None,\n",
              " None,\n",
              " None,\n",
              " None,\n",
              " None,\n",
              " None,\n",
              " None,\n",
              " None,\n",
              " None,\n",
              " None,\n",
              " None,\n",
              " None,\n",
              " None,\n",
              " None,\n",
              " None,\n",
              " None,\n",
              " None,\n",
              " None,\n",
              " None,\n",
              " None,\n",
              " None,\n",
              " None,\n",
              " None,\n",
              " None,\n",
              " None,\n",
              " None,\n",
              " None,\n",
              " None,\n",
              " None,\n",
              " None,\n",
              " None,\n",
              " None,\n",
              " None,\n",
              " None,\n",
              " None,\n",
              " None,\n",
              " 13,\n",
              " None,\n",
              " None,\n",
              " None,\n",
              " None,\n",
              " None,\n",
              " None,\n",
              " None,\n",
              " None,\n",
              " None,\n",
              " None,\n",
              " None,\n",
              " None,\n",
              " None,\n",
              " None,\n",
              " None,\n",
              " None,\n",
              " None,\n",
              " None,\n",
              " None,\n",
              " None,\n",
              " None,\n",
              " None,\n",
              " None,\n",
              " None,\n",
              " None,\n",
              " None,\n",
              " None,\n",
              " None,\n",
              " None,\n",
              " None,\n",
              " None,\n",
              " None,\n",
              " None,\n",
              " None,\n",
              " None,\n",
              " None,\n",
              " None]"
            ]
          },
          "metadata": {},
          "execution_count": 8
        }
      ]
    },
    {
      "cell_type": "markdown",
      "source": [
        "# Handling Collisions"
      ],
      "metadata": {
        "id": "9UCRQL4IMhgF"
      }
    },
    {
      "cell_type": "code",
      "source": [
        "# implementing chaining \n",
        "def get_hash(key):\n",
        "  h=0\n",
        "  for char in key:\n",
        "    h+=ord(char)\n",
        "  return h%100\n",
        "\n",
        "class Hashtable:\n",
        "  def __init__(self):\n",
        "    self.MAX = 100\n",
        "    self.arr = [[] for i in range(self.MAX)]\n",
        "\n",
        "  def get_hash(self,key):\n",
        "    h=0\n",
        "    for char in key:\n",
        "      h+=ord(char)\n",
        "    return h%self.MAX\n",
        "\n",
        "  def __setitem__(self,key,value):\n",
        "    h= self.get_hash(key)\n",
        "    found = False\n",
        "    for idx, element in enumerate(self.arr[h]):\n",
        "      if len(element)==2 and element[0]==key:\n",
        "        self.arr[h][idx]=(key,value)\n",
        "        found = True\n",
        "        break\n",
        "    self.arr[h].append((key,value))\n",
        "\n",
        "\n",
        "  def __getitem__(self,key):\n",
        "    h= self.get_hash(key)\n",
        "    for element in self.arr[h]:\n",
        "      if element[0]==key:\n",
        "        return element[1]\n",
        "\n",
        "\n",
        "  def __delitem__(self,key):\n",
        "    h = self.get_hash(key)\n",
        "    self.arr[h]=None"
      ],
      "metadata": {
        "id": "EaBkbMctMj7p"
      },
      "execution_count": 9,
      "outputs": []
    },
    {
      "cell_type": "code",
      "source": [
        "t= Hashtable()\n",
        "t['march 6']=123\n",
        "t['march 9']=130\n",
        "t['march 9']=123\n",
        "t['march 17']=13\n",
        "del t['march 9']\n",
        "t.arr"
      ],
      "metadata": {
        "id": "JNVQR8yfqgbC",
        "colab": {
          "base_uri": "https://localhost:8080/"
        },
        "outputId": "d13d3525-79d3-49f5-9d1f-ddc386711ed2"
      },
      "execution_count": 10,
      "outputs": [
        {
          "output_type": "execute_result",
          "data": {
            "text/plain": [
              "[[],\n",
              " [],\n",
              " [],\n",
              " [],\n",
              " [],\n",
              " [],\n",
              " [],\n",
              " [],\n",
              " [],\n",
              " [('march 6', 123)],\n",
              " [],\n",
              " [],\n",
              " None,\n",
              " [],\n",
              " [],\n",
              " [],\n",
              " [],\n",
              " [],\n",
              " [],\n",
              " [],\n",
              " [],\n",
              " [],\n",
              " [],\n",
              " [],\n",
              " [],\n",
              " [],\n",
              " [],\n",
              " [],\n",
              " [],\n",
              " [],\n",
              " [],\n",
              " [],\n",
              " [],\n",
              " [],\n",
              " [],\n",
              " [],\n",
              " [],\n",
              " [],\n",
              " [],\n",
              " [],\n",
              " [],\n",
              " [],\n",
              " [],\n",
              " [],\n",
              " [],\n",
              " [],\n",
              " [],\n",
              " [],\n",
              " [],\n",
              " [],\n",
              " [],\n",
              " [],\n",
              " [],\n",
              " [],\n",
              " [],\n",
              " [],\n",
              " [],\n",
              " [],\n",
              " [],\n",
              " [('march 17', 13)],\n",
              " [],\n",
              " [],\n",
              " [],\n",
              " [],\n",
              " [],\n",
              " [],\n",
              " [],\n",
              " [],\n",
              " [],\n",
              " [],\n",
              " [],\n",
              " [],\n",
              " [],\n",
              " [],\n",
              " [],\n",
              " [],\n",
              " [],\n",
              " [],\n",
              " [],\n",
              " [],\n",
              " [],\n",
              " [],\n",
              " [],\n",
              " [],\n",
              " [],\n",
              " [],\n",
              " [],\n",
              " [],\n",
              " [],\n",
              " [],\n",
              " [],\n",
              " [],\n",
              " [],\n",
              " [],\n",
              " [],\n",
              " [],\n",
              " [],\n",
              " [],\n",
              " [],\n",
              " []]"
            ]
          },
          "metadata": {},
          "execution_count": 10
        }
      ]
    },
    {
      "cell_type": "markdown",
      "source": [
        "# Stack data structures"
      ],
      "metadata": {
        "id": "4j9Vck0csZ2m"
      }
    },
    {
      "cell_type": "code",
      "source": [
        "from collections import deque\n",
        "stack = deque()\n",
        "dir(stack)"
      ],
      "metadata": {
        "id": "cAPjmlPbscYg",
        "colab": {
          "base_uri": "https://localhost:8080/"
        },
        "outputId": "bf43b021-b24b-4bcd-bef9-ba29bf31d350"
      },
      "execution_count": 11,
      "outputs": [
        {
          "output_type": "execute_result",
          "data": {
            "text/plain": [
              "['__add__',\n",
              " '__bool__',\n",
              " '__class__',\n",
              " '__contains__',\n",
              " '__copy__',\n",
              " '__delattr__',\n",
              " '__delitem__',\n",
              " '__dir__',\n",
              " '__doc__',\n",
              " '__eq__',\n",
              " '__format__',\n",
              " '__ge__',\n",
              " '__getattribute__',\n",
              " '__getitem__',\n",
              " '__gt__',\n",
              " '__hash__',\n",
              " '__iadd__',\n",
              " '__imul__',\n",
              " '__init__',\n",
              " '__init_subclass__',\n",
              " '__iter__',\n",
              " '__le__',\n",
              " '__len__',\n",
              " '__lt__',\n",
              " '__mul__',\n",
              " '__ne__',\n",
              " '__new__',\n",
              " '__reduce__',\n",
              " '__reduce_ex__',\n",
              " '__repr__',\n",
              " '__reversed__',\n",
              " '__rmul__',\n",
              " '__setattr__',\n",
              " '__setitem__',\n",
              " '__sizeof__',\n",
              " '__str__',\n",
              " '__subclasshook__',\n",
              " 'append',\n",
              " 'appendleft',\n",
              " 'clear',\n",
              " 'copy',\n",
              " 'count',\n",
              " 'extend',\n",
              " 'extendleft',\n",
              " 'index',\n",
              " 'insert',\n",
              " 'maxlen',\n",
              " 'pop',\n",
              " 'popleft',\n",
              " 'remove',\n",
              " 'reverse',\n",
              " 'rotate']"
            ]
          },
          "metadata": {},
          "execution_count": 11
        }
      ]
    },
    {
      "cell_type": "code",
      "source": [
        "stack.append('a')\n",
        "stack.append('b')\n",
        "stack.append('c')\n",
        "stack\n",
        "stack.pop()\n",
        "stack"
      ],
      "metadata": {
        "colab": {
          "base_uri": "https://localhost:8080/"
        },
        "id": "qB3KuSL3Y_35",
        "outputId": "826ac391-0f4d-4ca1-802f-c1e0cf0b185a"
      },
      "execution_count": 12,
      "outputs": [
        {
          "output_type": "execute_result",
          "data": {
            "text/plain": [
              "deque(['a', 'b'])"
            ]
          },
          "metadata": {},
          "execution_count": 12
        }
      ]
    },
    {
      "cell_type": "markdown",
      "source": [
        "# Queue Data Structures"
      ],
      "metadata": {
        "id": "3KuSgVrPcsat"
      }
    },
    {
      "cell_type": "code",
      "source": [
        "# using List along with insert and pop function, insert will push already exisiting elements forward and pop will remove the first element enetered\n",
        "s=[]\n",
        "s.insert(0,6)\n",
        "s.insert(0,7)\n",
        "s.insert(0,8)\n",
        "s.insert(0,9)\n",
        "s"
      ],
      "metadata": {
        "colab": {
          "base_uri": "https://localhost:8080/"
        },
        "id": "_tO9mJ-Fcr3M",
        "outputId": "87f6d1ac-1c4d-48c7-b97c-7eeee17a4238"
      },
      "execution_count": 14,
      "outputs": [
        {
          "output_type": "execute_result",
          "data": {
            "text/plain": [
              "[9, 8, 7, 6]"
            ]
          },
          "metadata": {},
          "execution_count": 14
        }
      ]
    },
    {
      "cell_type": "code",
      "source": [
        "s.pop()\n",
        "s"
      ],
      "metadata": {
        "colab": {
          "base_uri": "https://localhost:8080/"
        },
        "id": "201TBjwBdH-O",
        "outputId": "74793098-933a-4d09-9a4d-b2bc3fe8c94f"
      },
      "execution_count": 16,
      "outputs": [
        {
          "output_type": "execute_result",
          "data": {
            "text/plain": [
              "[9, 8]"
            ]
          },
          "metadata": {},
          "execution_count": 16
        }
      ]
    },
    {
      "cell_type": "code",
      "source": [
        "from collections import deque\n",
        "q= deque()\n",
        "q.appendleft(6)\n",
        "q.appendleft(7)\n",
        "q.appendleft(8)\n",
        "q.appendleft(9)\n",
        "q"
      ],
      "metadata": {
        "colab": {
          "base_uri": "https://localhost:8080/"
        },
        "id": "w_cYAQgkdMFZ",
        "outputId": "d1619301-a20e-45aa-cd61-c50aa9f10b3d"
      },
      "execution_count": 18,
      "outputs": [
        {
          "output_type": "execute_result",
          "data": {
            "text/plain": [
              "deque([9, 8, 7, 6])"
            ]
          },
          "metadata": {},
          "execution_count": 18
        }
      ]
    },
    {
      "cell_type": "code",
      "source": [
        "q.pop()\n",
        "q"
      ],
      "metadata": {
        "colab": {
          "base_uri": "https://localhost:8080/"
        },
        "id": "nskQIYWvdchU",
        "outputId": "63d37037-7001-4553-9ec9-817449643c72"
      },
      "execution_count": 19,
      "outputs": [
        {
          "output_type": "execute_result",
          "data": {
            "text/plain": [
              "deque([9, 8, 7])"
            ]
          },
          "metadata": {},
          "execution_count": 19
        }
      ]
    },
    {
      "cell_type": "code",
      "source": [
        "class queues:\n",
        "  def __init__(self):\n",
        "    self.buffer=deque()\n",
        "\n",
        "  def enque(self,val):\n",
        "    self.buffer.appendleft(val)\n",
        "\n",
        "  def dequen(self):\n",
        "    self.buffer.pop()\n",
        "\n",
        "  def is_empty(self):\n",
        "    return len(self.buffer)==0\n",
        "\n",
        "  def size(self):\n",
        "    return len(self.buffer)"
      ],
      "metadata": {
        "id": "nlBk8YMNdtLt"
      },
      "execution_count": 20,
      "outputs": []
    },
    {
      "cell_type": "code",
      "source": [
        "pq = queues()\n",
        "pq.enque({'a':10})\n",
        "pq.enque({'c':40})\n",
        "pq.enque({'d':30})\n",
        "pq.enque({'b':20})\n",
        "print(pq.buffer)\n",
        "pq.dequen()"
      ],
      "metadata": {
        "colab": {
          "base_uri": "https://localhost:8080/"
        },
        "id": "DUGnRfnLeR6m",
        "outputId": "964ff7aa-86af-47e5-8be9-8bf3197799ab"
      },
      "execution_count": 33,
      "outputs": [
        {
          "output_type": "stream",
          "name": "stdout",
          "text": [
            "deque([{'b': 20}, {'d': 30}, {'c': 40}, {'a': 10}])\n"
          ]
        }
      ]
    },
    {
      "cell_type": "code",
      "source": [
        "pq.size(), pq.dequen(), pq.is_empty()"
      ],
      "metadata": {
        "colab": {
          "base_uri": "https://localhost:8080/"
        },
        "id": "VIJT9HCAetPB",
        "outputId": "218e6471-6f81-493f-fd34-e0be3502ce2d"
      },
      "execution_count": 30,
      "outputs": [
        {
          "output_type": "execute_result",
          "data": {
            "text/plain": [
              "(4, None, False)"
            ]
          },
          "metadata": {},
          "execution_count": 30
        }
      ]
    },
    {
      "cell_type": "markdown",
      "source": [
        "# General Tree Structures"
      ],
      "metadata": {
        "id": "djNoOrp8fhIs"
      }
    },
    {
      "cell_type": "code",
      "source": [
        ""
      ],
      "metadata": {
        "id": "_JN9ABGzfnmd"
      },
      "execution_count": null,
      "outputs": []
    }
  ]
}